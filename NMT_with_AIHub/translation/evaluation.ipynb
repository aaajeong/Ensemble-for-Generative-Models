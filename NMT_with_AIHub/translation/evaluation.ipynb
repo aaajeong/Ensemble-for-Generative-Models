{
 "cells": [
  {
   "cell_type": "code",
   "execution_count": 1,
   "metadata": {},
   "outputs": [],
   "source": [
    "from nltk.translate.bleu_score import sentence_bleu\n",
    "from nltk.translate.bleu_score import corpus_bleu\n",
    "from nltk.translate.bleu_score import SmoothingFunction\n",
    "import nltk\n",
    "smooth = SmoothingFunction()\n"
   ]
  },
  {
   "cell_type": "code",
   "execution_count": 19,
   "metadata": {},
   "outputs": [
    {
     "data": {
      "text/plain": [
       "1.0"
      ]
     },
     "execution_count": 19,
     "metadata": {},
     "output_type": "execute_result"
    }
   ],
   "source": [
    "reference = [[\"this is the sample\"]]\n",
    "# reference = [\"this is the sample\"]\n",
    "candidate = ['this is the sample']\n",
    "score1 = sentence_bleu(reference, candidate, weights=(1, 0, 0, 0)) # 1.0\n",
    "score1"
   ]
  },
  {
   "cell_type": "code",
   "execution_count": 38,
   "metadata": {},
   "outputs": [
    {
     "data": {
      "text/plain": [
       "1.0"
      ]
     },
     "execution_count": 38,
     "metadata": {},
     "output_type": "execute_result"
    }
   ],
   "source": [
    "reference = [[\"this\", \"is\", \"the\", \"sample\"]]\n",
    "candidate = ['this', \"is\", \"the\", \"sample\"]\n",
    "score1 = sentence_bleu(reference, candidate, weights=(1, 0, 0, 0)) # 1.0\n",
    "score1"
   ]
  },
  {
   "cell_type": "code",
   "execution_count": 4,
   "metadata": {},
   "outputs": [
    {
     "name": "stdout",
     "output_type": "stream",
     "text": [
      "Multiple Sentence :  0.8571428571428571\n"
     ]
    }
   ],
   "source": [
    "reference = [[[\"this\", \"is\", \"a\", \"sample\"]], \n",
    " \t     [[\"another\", \"sentence\"], [\"other\", \"sentence\"]]]\n",
    "candidate = [['this', \"is\", \"a\", \"sample\"], \n",
    "\t     ['just', \"another\", \"sentence\"]]\n",
    "score4 = corpus_bleu(reference, candidate, weights=(1, 0, 0, 0))\n",
    "\n",
    "print(\"Multiple Sentence : \", score4)  # 0.77"
   ]
  },
  {
   "cell_type": "code",
   "execution_count": 78,
   "metadata": {},
   "outputs": [
    {
     "data": {
      "text/plain": [
       "(0.2402972749793559, 0.07179921702182356, 0.17262019075904425)"
      ]
     },
     "execution_count": 78,
     "metadata": {},
     "output_type": "execute_result"
    }
   ],
   "source": [
    "f = open('../result/test/2022-10-24-18:04/single/output.txt', 'r')\n",
    "output = f.readlines()\n",
    "refs = []\n",
    "hpys = []\n",
    "sbleu = 0\n",
    "all_bleu = []\n",
    "\n",
    "for o in output:\n",
    "    hpy, ref = o.split('|')\n",
    "    ref = ref.replace('\\n', '').split()\n",
    "    refs.append([ref])\n",
    "    hpys.append(hpy.split())\n",
    "    \n",
    "    tmp = nltk.translate.bleu(ref, hpy, smoothing_function=smooth.method4)  # weights=(0.25, 0.25, 0.25, 0.25)\n",
    "    all_bleu.append(tmp)\n",
    "    sbleu += tmp\n",
    "\n",
    "score1 = corpus_bleu(refs, hpys, weights=(1, 0, 0, 0))\n",
    "score2 = corpus_bleu(refs, hpys, smoothing_function=smooth.method4)\n",
    "\n",
    "score1, score2, sbleu/len(output)"
   ]
  },
  {
   "cell_type": "code",
   "execution_count": 77,
   "metadata": {},
   "outputs": [
    {
     "data": {
      "text/plain": [
       "[0.132682439675734,\n",
       " 0.13085351568959355,\n",
       " 0.2520974938827424,\n",
       " 0.051816557466936745,\n",
       " 0.2991225646075178,\n",
       " 0.1949761139276864,\n",
       " 0.3523702436310489,\n",
       " 0.014879929810179358,\n",
       " 0.11027704011483172,\n",
       " 0.4214252882545098,\n",
       " 0.3505647461277734,\n",
       " 0.146802242277203,\n",
       " 0.06839748864379923,\n",
       " 0.03533146113487955,\n",
       " 0.0928821106857487,\n",
       " 0.2623856664782182,\n",
       " 0.03006434437503267,\n",
       " 0.09929292774232391,\n",
       " 0.04838282054596967,\n",
       " 0.34455639669630744,\n",
       " 0.29011247360412673,\n",
       " 0.06280966952749609,\n",
       " 0.23517613599813986,\n",
       " 0.033146192899180055,\n",
       " 0.11055607910487246,\n",
       " 0.26750801202824637,\n",
       " 0.09353169330658494,\n",
       " 0.12682999918764198,\n",
       " 0.0993835595466795,\n",
       " 0.13609443289281123,\n",
       " 0.41184612502493956,\n",
       " 0.27802503872426754,\n",
       " 0.23923511125430247,\n",
       " 0.21412327592297042,\n",
       " 0.2427310139965937,\n",
       " 0.04216959106319922,\n",
       " 0.045766203997763086,\n",
       " 0.537284965911771,\n",
       " 0.22654234028691125,\n",
       " 0.4743117682950683,\n",
       " 0.13666086295264393,\n",
       " 0.028495133161056983,\n",
       " 0.07653242626496379,\n",
       " 0.06897430520759465,\n",
       " 0.22010162889257223,\n",
       " 0.12324361063052325,\n",
       " 0.25107542027773755,\n",
       " 0.3188158895003114,\n",
       " 0.13562734763784914,\n",
       " 0.13272899557353957,\n",
       " 0.4562692415750513,\n",
       " 0.043885231430033964,\n",
       " 0.25229452006812825,\n",
       " 0.14724177173979452,\n",
       " 0.23647899791301802,\n",
       " 0.16664949768735032,\n",
       " 0.20378314668219105,\n",
       " 0.18049854911695937,\n",
       " 0.20581095578237676,\n",
       " 0.1705871441876734,\n",
       " 0.29979613339971223,\n",
       " 0.14275826720433024,\n",
       " 0.3074860399700113,\n",
       " 0.14233773261409022,\n",
       " 0.05040352848118549,\n",
       " 0.18376711147874328,\n",
       " 0.11316622199302995,\n",
       " 0.2258516974952553,\n",
       " 0.23623201677033018,\n",
       " 0.30094260224589775,\n",
       " 0.06607272734463435,\n",
       " 0.048534334862316,\n",
       " 0.2808337289012351,\n",
       " 0.02663059335502267,\n",
       " 0.2223579097970982,\n",
       " 0.09004076117136119,\n",
       " 0.12717875507757515,\n",
       " 0.03432285169995235,\n",
       " 0.06832516496525091,\n",
       " 0.30626101600123445,\n",
       " 0.03269896415238061,\n",
       " 0.035364639249618454,\n",
       " 0.07110703768283211,\n",
       " 0.11625370484025987,\n",
       " 0.03171439935382374,\n",
       " 0.14718244887876833,\n",
       " 0.16789125215525622,\n",
       " 0.13108369255325433,\n",
       " 0.2131922460941227,\n",
       " 0.30826276460621843,\n",
       " 0.13520459769143478,\n",
       " 0.28339296176052864,\n",
       " 0.317314294712872,\n",
       " 0.3796709022710187,\n",
       " 0.030758877278996608,\n",
       " 0.034948832055193085,\n",
       " 0.08635033351330453,\n",
       " 0.22673917673294086,\n",
       " 0.04637704253039447,\n",
       " 0.03111196233996958]"
      ]
     },
     "execution_count": 77,
     "metadata": {},
     "output_type": "execute_result"
    }
   ],
   "source": [
    "all_bleu"
   ]
  },
  {
   "cell_type": "markdown",
   "metadata": {},
   "source": [
    "### Sentence BLEU"
   ]
  },
  {
   "cell_type": "code",
   "execution_count": 66,
   "metadata": {},
   "outputs": [
    {
     "name": "stdout",
     "output_type": "stream",
     "text": [
      "['Enter', 'into', '0', 'setting,', 'and', 'wait', 'for', '5', 'minutes', 'to', 'make', 'it', 'stable,', 'then', 'long-press', 'OK', 'button.']\n"
     ]
    },
    {
     "data": {
      "text/plain": [
       "(0.20202020202020202, 0.132682439675734, 0.132682439675734)"
      ]
     },
     "execution_count": 66,
     "metadata": {},
     "output_type": "execute_result"
    }
   ],
   "source": [
    "# candidate = [['The', 'Add', 'button', 'lived', 'the', 'completion', 'entriesthed', '24', 'hours', 'of', '5', 'minutes', 'will', 'be', 'sent', 'within', '24', 'hours', '.']]\n",
    "# candidate = 'The Add button lived the completion entriesthed 24 hours of 5 minutes will be sent within 24 hours.'\n",
    "\n",
    "# reference = [[\"Could\", \"you\", \"lend\", \"much\", \"your\", \"time?\"]]\n",
    "# candidate = [\"Could\",  \"you\", \"lend\", \"me\", \"1,550\", \"won\", \"and\", \"your\" ,\"time?\"]\n",
    "\n",
    "# reference = [\"Enter\", \"into\", \"0\", \"setting\", \",\" , \"and\", \"wait\", \"for\", \"5\", \"minutes\", \"to\", \"make\", \"it\", \"stable\" ,\",\", \"then\", \"long-press\", \"OK\", \"button\", \".\"]\n",
    "# reference = [[\"Enter\", \"into\", \"0\", \"setting\", \",\" , \"and\", \"wait\", \"for\", \"5\", \"minutes\", \"to\", \"make\", \"it\", \"stable\" ,\",\", \"then\", \"long-press\", \"OK\", \"button\", \".\"]]\n",
    "reference = 'Enter into 0 setting, and wait for 5 minutes to make it stable, then long-press OK button.'\n",
    "reference = reference.split()\n",
    "print(reference)\n",
    "# candidate = ['The', 'Add', 'button', 'lived', 'the', 'completion', 'entriesthed', '24', 'hours', 'of', '5', 'minutes', 'will', 'be', 'sent', 'within', '24', 'hours', '.']\n",
    "candidate = 'The Add button lived the completion entriesthed 24 hours of 5 minutes will be sent within 24 hours.'\n",
    "\n",
    "score1 = sentence_bleu(reference, candidate, weights=(1, 0, 0, 0)) # 1.0\n",
    "score2 = sentence_bleu(reference, candidate, weights=(0.25, 0.25, 0.25, 0.25)) # 1.0\n",
    "score3 = nltk.translate.bleu(reference, candidate, smoothing_function=smooth.method4)\n",
    "score1, score2, score3"
   ]
  },
  {
   "cell_type": "code",
   "execution_count": null,
   "metadata": {},
   "outputs": [],
   "source": [
    "# # 1. [], str 일 때 == split 사용했을 때\n",
    "# (0.20202020202020202, 0.132682439675734, 0.132682439675734)\n",
    "\n",
    "# # 2. [[]], [] 일 때\n",
    "# (0.1997325221087236, 4.653964676887851e-155, 0.03505519774371614)"
   ]
  },
  {
   "cell_type": "markdown",
   "metadata": {},
   "source": [
    "### Corpus BLEU"
   ]
  },
  {
   "cell_type": "code",
   "execution_count": 74,
   "metadata": {},
   "outputs": [
    {
     "data": {
      "text/plain": [
       "(0.26834628760021934, 0.07610347844984751)"
      ]
     },
     "execution_count": 74,
     "metadata": {},
     "output_type": "execute_result"
    }
   ],
   "source": [
    "r1 = 'Enter into 0 setting, and wait for 5 minutes to make it stable, then long-press OK button.'\n",
    "r1 = r1.split()\n",
    "r2 = 'Could you lend me 1,550 won and your time?'\n",
    "r2 = r2.split()\n",
    "\n",
    "c1 = 'The Add button lived the completion entriesthed 24 hours of 5 minutes will be sent within 24 hours.'\n",
    "c1 = c1.split()\n",
    "c2 = 'Could you lend much your time?'\n",
    "c2 = c2.split()\n",
    "\n",
    "references = [[r1], [r2]]\n",
    "candidates = [c1, c2]\n",
    "\n",
    "score1 = corpus_bleu(references, candidates, weights=(1, 0, 0, 0))\n",
    "score2 = corpus_bleu(references, candidates, smoothing_function=smooth.method4)\n",
    "\n",
    "score1, score2"
   ]
  }
 ],
 "metadata": {
  "kernelspec": {
   "display_name": "Python 3.7.13 ('ahjeong')",
   "language": "python",
   "name": "python3"
  },
  "language_info": {
   "codemirror_mode": {
    "name": "ipython",
    "version": 3
   },
   "file_extension": ".py",
   "mimetype": "text/x-python",
   "name": "python",
   "nbconvert_exporter": "python",
   "pygments_lexer": "ipython3",
   "version": "3.7.13"
  },
  "orig_nbformat": 4,
  "vscode": {
   "interpreter": {
    "hash": "e45bb29e50c202db4677840c0a3f4cfd4bfbf39c67a96c284edb2d0e1571e9e9"
   }
  }
 },
 "nbformat": 4,
 "nbformat_minor": 2
}
