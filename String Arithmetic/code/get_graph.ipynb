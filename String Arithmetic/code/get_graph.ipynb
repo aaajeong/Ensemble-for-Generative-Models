{
 "cells": [
  {
   "cell_type": "code",
   "execution_count": 1,
   "metadata": {},
   "outputs": [],
   "source": [
    "from matplotlib import pyplot as plt\n",
    "import numpy as np"
   ]
  },
  {
   "cell_type": "markdown",
   "metadata": {},
   "source": [
    "### 각 모델 5개 검증정확도 추출"
   ]
  },
  {
   "cell_type": "code",
   "execution_count": 149,
   "metadata": {},
   "outputs": [],
   "source": [
    "acc_list = []\n",
    "f = open(\"../training_memo/single_1000epoch/1-single_1000epoch.out\", 'r', encoding=\"utf-8\")\n",
    "while True:\n",
    "    line = f.readline()\n",
    "    if line[:6] == '검증 정확도':\n",
    "        acc_list.append(line[7:12])\n",
    "    if not line: break\n",
    "acc_list1 = list(map(float, acc_list))\n",
    "f.close()\n",
    "\n",
    "acc_list = []\n",
    "\n",
    "f = open(\"../training_memo/single_1000epoch/2-single_1000epoch.out\", 'r', encoding=\"utf-8\")\n",
    "while True:\n",
    "    line = f.readline()\n",
    "    if line[:6] == '검증 정확도':\n",
    "        acc_list.append(line[7:12])\n",
    "    if not line: break\n",
    "acc_list2 = list(map(float, acc_list))\n",
    "f.close()\n",
    "\n",
    "acc_list = []\n",
    "\n",
    "f = open(\"../training_memo/single_1000epoch/3-single_1000epoch.out\", 'r', encoding=\"utf-8\")\n",
    "while True:\n",
    "    line = f.readline()\n",
    "    if line[:6] == '검증 정확도':\n",
    "        acc_list.append(line[7:12])\n",
    "    if not line: break\n",
    "acc_list3 = list(map(float, acc_list))\n",
    "f.close()\n",
    "\n",
    "acc_list = []\n",
    "\n",
    "f = open(\"../training_memo/single_1000epoch/4-single_1000epoch.out\", 'r', encoding=\"utf-8\")\n",
    "while True:\n",
    "    line = f.readline()\n",
    "    if line[:6] == '검증 정확도':\n",
    "        acc_list.append(line[7:12])\n",
    "    if not line: break\n",
    "acc_list4 = list(map(float, acc_list))\n",
    "f.close()\n",
    "\n",
    "acc_list = []\n",
    "\n",
    "f = open(\"../training_memo/single_1000epoch/5-single_1000epoch.out\", 'r', encoding=\"utf-8\")\n",
    "while True:\n",
    "    line = f.readline()\n",
    "    if line[:6] == '검증 정확도':\n",
    "        acc_list.append(line[7:12])\n",
    "    if not line: break\n",
    "acc_list5 = list(map(float, acc_list))\n",
    "f.close()"
   ]
  },
  {
   "cell_type": "code",
   "execution_count": 150,
   "metadata": {},
   "outputs": [],
   "source": [
    "acc_list1 = np.array(acc_list1)\n",
    "acc_list2 = np.array(acc_list2)\n",
    "acc_list3 = np.array(acc_list3)\n",
    "acc_list4 = np.array(acc_list4)\n",
    "acc_list5 = np.array(acc_list5)"
   ]
  },
  {
   "cell_type": "code",
   "execution_count": 151,
   "metadata": {
    "scrolled": true
   },
   "outputs": [
    {
     "data": {
      "text/plain": [
       "1000"
      ]
     },
     "execution_count": 151,
     "metadata": {},
     "output_type": "execute_result"
    }
   ],
   "source": [
    "len(acc_list5)"
   ]
  },
  {
   "cell_type": "markdown",
   "metadata": {},
   "source": [
    "### 5개 모델 평균 정확도"
   ]
  },
  {
   "cell_type": "code",
   "execution_count": 152,
   "metadata": {},
   "outputs": [],
   "source": [
    "results = acc_list1 + acc_list2 + acc_list3 + acc_list4 + acc_list5\n",
    "results = results / 5\n",
    "\n",
    "f = open('../training_memo/get_avg(single_1000epoch).txt', 'w')\n",
    "\n",
    "for i in range(1000):\n",
    "    score = round(results[i], 3)\n",
    "    f.write(str(score))\n",
    "    f.write('\\n')\n",
    "f.close()"
   ]
  },
  {
   "cell_type": "markdown",
   "metadata": {},
   "source": [
    "### 10 epoch 마다"
   ]
  },
  {
   "cell_type": "code",
   "execution_count": 28,
   "metadata": {},
   "outputs": [],
   "source": [
    "n_acc_list1 = []\n",
    "n_acc_list2 = []\n",
    "n_acc_list3 = []\n",
    "n_acc_list4 = []\n",
    "n_acc_list5 = []\n",
    "\n",
    "for i in range(1000):\n",
    "    if i % 10 == 0:\n",
    "        n_acc_list1.append(acc_list1[i])\n",
    "        n_acc_list2.append(acc_list2[i])\n",
    "        n_acc_list3.append(acc_list3[i])\n",
    "        n_acc_list4.append(acc_list4[i])\n",
    "        n_acc_list5.append(acc_list5[i])\n",
    "    "
   ]
  },
  {
   "cell_type": "markdown",
   "metadata": {},
   "source": [
    "### 각 모델 정확도 그래프 출력"
   ]
  },
  {
   "cell_type": "code",
   "execution_count": 37,
   "metadata": {},
   "outputs": [
    {
     "data": {
      "text/plain": [
       "20"
      ]
     },
     "execution_count": 37,
     "metadata": {},
     "output_type": "execute_result"
    }
   ],
   "source": [
    "len(n_acc_list1[:20])"
   ]
  },
  {
   "cell_type": "code",
   "execution_count": 51,
   "metadata": {},
   "outputs": [
    {
     "data": {
      "text/plain": [
       "array([ 1,  2,  3,  4,  5,  6,  7,  8,  9, 10])"
      ]
     },
     "execution_count": 51,
     "metadata": {},
     "output_type": "execute_result"
    }
   ],
   "source": [
    "c = np.arange(1, 11, step=1)\n",
    "c"
   ]
  },
  {
   "cell_type": "markdown",
   "metadata": {},
   "source": [
    "### 10 epoch 마다"
   ]
  },
  {
   "cell_type": "code",
   "execution_count": 56,
   "metadata": {
    "scrolled": false
   },
   "outputs": [
    {
     "data": {
      "image/png": "[encoded data removed]",
      "text/plain": [
       "<Figure size 432x288 with 1 Axes>"
      ]
     },
     "metadata": {
      "needs_background": "light"
     },
     "output_type": "display_data"
    }
   ],
   "source": [
    "x_values = np.arange(10, 1010, 10)\n",
    "\n",
    "plt.plot(x_values, n_acc_list5, color=\"lime\")\n",
    "# plt.scatter(x_values, n_acc_list1, c = '#ff7f0e')\n",
    "# plt.legend(['Soft Voting'])\n",
    "plt.ylim(0, 100)\n",
    "plt.xlabel('Epoch')\n",
    "plt.ylabel('Accuracy')\n",
    "# plt.title('PlusMinus Accuracy')\n",
    "# plt.savefig('Single-1.png', dpi=300, bbox_inches='tight', pad_inches=0)\n",
    "plt.show()"
   ]
  },
  {
   "cell_type": "markdown",
   "metadata": {},
   "source": [
    "### 모든 모델 정확도 비교"
   ]
  },
  {
   "cell_type": "code",
   "execution_count": 164,
   "metadata": {},
   "outputs": [],
   "source": [
    "x_values = np.arange(200)\n",
    "f = open(\"../training_memo/get_avg(esb_soft).txt\", 'r')\n",
    "f1 = open(\"../training_memo/get_avg(survival).txt\", 'r')\n",
    "f2 = open(\"../training_memo/get_avg(real).txt\", 'r')\n",
    "f3 = open(\"../training_memo/get_avg(single).txt\", 'r')\n",
    "f4 = open(\"../training_memo/get_avg(single_1000epoch).txt\", 'r')\n",
    "\n",
    "\n",
    "esb_lines = f.readlines()\n",
    "sur_lines = f1.readlines()\n",
    "real_lines = f2.readlines()\n",
    "single_lines = f3.readlines()\n",
    "single2_lines = f4.readlines()\n",
    "\n",
    "f.close()\n",
    "f1.close()\n",
    "f2.close()\n",
    "f3.close()\n",
    "f4.close()\n",
    "\n",
    "esb_list = list(map(float, esb_lines))\n",
    "sur_list = list(map(float, sur_lines))\n",
    "real_list = list(map(float, real_lines))\n",
    "single_list = list(map(float, single_lines))\n",
    "single2_list = list(map(float, single2_lines))"
   ]
  },
  {
   "cell_type": "markdown",
   "metadata": {},
   "source": [
    "### 10 epoch 마다"
   ]
  },
  {
   "cell_type": "code",
   "execution_count": 165,
   "metadata": {},
   "outputs": [],
   "source": [
    "n_esb_list = []\n",
    "n_sur_list = []\n",
    "n_real_list = []\n",
    "n_single_list = []\n",
    "n_single_list2 = []\n",
    "\n",
    "\n",
    "\n",
    "for i in range(200):\n",
    "    if i % 10 == 0:\n",
    "        n_esb_list.append(esb_list[i])\n",
    "        n_sur_list.append(sur_list[i])\n",
    "        n_real_list.append(real_list[i])\n",
    "        n_single_list.append(single_list[i])\n",
    "        \n",
    "for i in range(1000):\n",
    "    if i % 10 == 0:\n",
    "        n_single_list2.append(single2_list[i])\n",
    "        \n"
   ]
  },
  {
   "cell_type": "code",
   "execution_count": 166,
   "metadata": {
    "scrolled": true
   },
   "outputs": [
    {
     "data": {
      "image/png": "[encoded data removed]",
      "text/plain": [
       "<Figure size 432x288 with 1 Axes>"
      ]
     },
     "metadata": {
      "needs_background": "light"
     },
     "output_type": "display_data"
    }
   ],
   "source": [
    "# x_values = [10, 20, 30, 40, 50, 60, 70, 80, 90, 100, 110, 120, 130, 140, 150, 160, 170, 180, 190, 200]\n",
    "x_values = np.arange(10, 210, 10)\n",
    "x_values2 = np.arange(10, 1010, 10)\n",
    "plt.plot(x_values, n_esb_list, color = \"dodgerblue\")\n",
    "plt.scatter(x_values, n_esb_list, c = 'dodgerblue', s=15)\n",
    "plt.plot(x_values, n_sur_list, color = \"#2ca02c\")\n",
    "plt.scatter(x_values, n_sur_list, c = '#2ca02c', s=15)\n",
    "plt.plot(x_values, n_real_list, color = \"#9467bd\")\n",
    "plt.scatter(x_values, n_real_list, c = '#9467bd', s=15)\n",
    "plt.plot(x_values, n_single_list, color = \"#ff7f0e\")\n",
    "plt.scatter(x_values, n_single_list, c = '#ff7f0e', s=15)\n",
    "plt.plot(x_values2, n_single_list2, color = \"lime\")\n",
    "plt.scatter(x_values2, n_single_list2, c = 'lime', s=15)\n",
    "\n",
    "plt.legend(['Soft Voting', 'Survival', 'Majority', 'Single', 'Single(1000epoch)'])\n",
    "plt.ylim(0, 100)\n",
    "plt.xlabel('Epoch')\n",
    "plt.ylabel('Accuracy')\n",
    "# plt.title('PlusMinus Accuracy')\n",
    "# plt.savefig('compare Accuacy15.png', dpi=300, bbox_inches='tight', pad_inches=0)\n",
    "plt.show()\n"
   ]
  }
 ],
 "metadata": {
  "interpreter": {
   "hash": "8acd2a4c40bb06440d03e583eeea35c6596324a3385dafe16353bbc1939be192"
  },
  "kernelspec": {
   "display_name": "esb",
   "language": "python",
   "name": "esb"
  },
  "language_info": {
   "codemirror_mode": {
    "name": "ipython",
    "version": 3
   },
   "file_extension": ".py",
   "mimetype": "text/x-python",
   "name": "python",
   "nbconvert_exporter": "python",
   "pygments_lexer": "ipython3",
   "version": "3.8.10"
  }
 },
 "nbformat": 4,
 "nbformat_minor": 2
}
